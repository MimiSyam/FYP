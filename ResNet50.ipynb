{
  "nbformat": 4,
  "nbformat_minor": 0,
  "metadata": {
    "colab": {
      "provenance": [],
      "machine_shape": "hm",
      "gpuType": "T4",
      "authorship_tag": "ABX9TyNgdjPqN2jwjyOZSfz95Y5V",
      "include_colab_link": true
    },
    "kernelspec": {
      "name": "python3",
      "display_name": "Python 3"
    },
    "language_info": {
      "name": "python"
    },
    "accelerator": "GPU"
  },
  "cells": [
    {
      "cell_type": "markdown",
      "metadata": {
        "id": "view-in-github",
        "colab_type": "text"
      },
      "source": [
        "<a href=\"https://colab.research.google.com/github/MimiSyam/FYP/blob/main/ResNet50.ipynb\" target=\"_parent\"><img src=\"https://colab.research.google.com/assets/colab-badge.svg\" alt=\"Open In Colab\"/></a>"
      ]
    },
    {
      "cell_type": "code",
      "source": [
        "from google.colab import drive\n",
        "drive.mount('/content/drive')"
      ],
      "metadata": {
        "colab": {
          "base_uri": "https://localhost:8080/"
        },
        "id": "7R7CqV8hlPVr",
        "outputId": "072168ac-ec88-4cf3-da81-32739974555d"
      },
      "execution_count": 1,
      "outputs": [
        {
          "output_type": "stream",
          "name": "stdout",
          "text": [
            "Mounted at /content/drive\n"
          ]
        }
      ]
    },
    {
      "cell_type": "code",
      "source": [
        "import os\n",
        "\n",
        "directory = '/content/drive/MyDrive/VGG19/skinTone_type_all'\n",
        "class_names = os.listdir(directory)\n",
        "num_classes = len(class_names)"
      ],
      "metadata": {
        "id": "GjN8EoCnlQc9"
      },
      "execution_count": 2,
      "outputs": []
    },
    {
      "cell_type": "code",
      "source": [
        "import cv2\n",
        "import glob\n",
        "import numpy as np\n",
        "from tensorflow.keras.preprocessing.image import ImageDataGenerator"
      ],
      "metadata": {
        "id": "5Eb0bJ5AlSeq"
      },
      "execution_count": 3,
      "outputs": []
    },
    {
      "cell_type": "code",
      "source": [
        "# Set the image size for VGG19\n",
        "imSize = 224"
      ],
      "metadata": {
        "id": "wBqFo_NWlfzH"
      },
      "execution_count": 4,
      "outputs": []
    },
    {
      "cell_type": "code",
      "source": [
        "# Lists to store images and labels\n",
        "train_images = []\n",
        "train_labels = []"
      ],
      "metadata": {
        "id": "-54Tu_2ClgZG"
      },
      "execution_count": 5,
      "outputs": []
    },
    {
      "cell_type": "code",
      "source": [
        "# Initialize an ImageDataGenerator for data augmentation\n",
        "datagen = ImageDataGenerator(\n",
        "    rotation_range=20,\n",
        "    width_shift_range=0.2,\n",
        "    height_shift_range=0.2,\n",
        "    shear_range=0.2,\n",
        "    zoom_range=0.2,\n",
        "    horizontal_flip=True,\n",
        "    fill_mode='nearest')"
      ],
      "metadata": {
        "id": "6m_nnFHsliF2"
      },
      "execution_count": null,
      "outputs": []
    },
    {
      "cell_type": "code",
      "source": [
        "for class_index, class_name in enumerate(class_names):\n",
        "    class_dir = os.path.join(directory, class_name)\n",
        "    for image_name in os.listdir(class_dir):\n",
        "        image_path = os.path.join(class_dir, image_name)\n",
        "        fundIm = cv2.imread(image_path)\n",
        "        resizeIm = cv2.resize(fundIm, (imSize, imSize))  # Resize image to desired size\n",
        "\n",
        "        #Apply data augmentation\n",
        "        #img_batch = np.expand_dims(resizeIm, axis=0)  # Add batch dimension\n",
        "        #aug_iter = datagen.flow(img_batch, batch_size=1)\n",
        "        #augmented_images = [next(aug_iter)[0] for _ in range(10)]  # Generate 10 augmented images\n",
        "\n",
        "\n",
        "        #train_images.extend(augmented_images)\n",
        "        #train_labels.extend([class_index] * len(augmented_images))\n",
        "\n",
        "        train_images.append(resizeIm)\n",
        "        train_labels.append(class_index)"
      ],
      "metadata": {
        "id": "0SAhUooVlkPq"
      },
      "execution_count": 6,
      "outputs": []
    },
    {
      "cell_type": "code",
      "source": [
        "# Convert lists to numpy arrays\n",
        "train_images = np.array(train_images)\n",
        "train_labels = np.array(train_labels)"
      ],
      "metadata": {
        "id": "spv_XDcrlmnv"
      },
      "execution_count": 7,
      "outputs": []
    },
    {
      "cell_type": "code",
      "source": [
        "# Normalize RGB values to [0, 1]\n",
        "train_images = train_images.astype('float32') / 255.0"
      ],
      "metadata": {
        "id": "BLgQB7LElpOF"
      },
      "execution_count": 8,
      "outputs": []
    },
    {
      "cell_type": "code",
      "execution_count": 9,
      "metadata": {
        "colab": {
          "base_uri": "https://localhost:8080/"
        },
        "id": "N9nEFke-kILM",
        "outputId": "4adbcf71-7a13-43f1-f4a2-719872d45346"
      },
      "outputs": [
        {
          "output_type": "stream",
          "name": "stdout",
          "text": [
            "Model: \"model\"\n",
            "__________________________________________________________________________________________________\n",
            " Layer (type)                Output Shape                 Param #   Connected to                  \n",
            "==================================================================================================\n",
            " input_1 (InputLayer)        [(None, 224, 224, 3)]        0         []                            \n",
            "                                                                                                  \n",
            " conv2d (Conv2D)             (None, 112, 112, 64)         9472      ['input_1[0][0]']             \n",
            "                                                                                                  \n",
            " batch_normalization (Batch  (None, 112, 112, 64)         256       ['conv2d[0][0]']              \n",
            " Normalization)                                                                                   \n",
            "                                                                                                  \n",
            " re_lu (ReLU)                (None, 112, 112, 64)         0         ['batch_normalization[0][0]'] \n",
            "                                                                                                  \n",
            " max_pooling2d (MaxPooling2  (None, 56, 56, 64)           0         ['re_lu[0][0]']               \n",
            " D)                                                                                               \n",
            "                                                                                                  \n",
            " conv2d_1 (Conv2D)           (None, 56, 56, 64)           4160      ['max_pooling2d[0][0]']       \n",
            "                                                                                                  \n",
            " batch_normalization_1 (Bat  (None, 56, 56, 64)           256       ['conv2d_1[0][0]']            \n",
            " chNormalization)                                                                                 \n",
            "                                                                                                  \n",
            " re_lu_1 (ReLU)              (None, 56, 56, 64)           0         ['batch_normalization_1[0][0]'\n",
            "                                                                    ]                             \n",
            "                                                                                                  \n",
            " conv2d_2 (Conv2D)           (None, 56, 56, 64)           36928     ['re_lu_1[0][0]']             \n",
            "                                                                                                  \n",
            " batch_normalization_2 (Bat  (None, 56, 56, 64)           256       ['conv2d_2[0][0]']            \n",
            " chNormalization)                                                                                 \n",
            "                                                                                                  \n",
            " re_lu_2 (ReLU)              (None, 56, 56, 64)           0         ['batch_normalization_2[0][0]'\n",
            "                                                                    ]                             \n",
            "                                                                                                  \n",
            " conv2d_3 (Conv2D)           (None, 56, 56, 256)          16640     ['re_lu_2[0][0]']             \n",
            "                                                                                                  \n",
            " conv2d_4 (Conv2D)           (None, 56, 56, 256)          16640     ['max_pooling2d[0][0]']       \n",
            "                                                                                                  \n",
            " batch_normalization_4 (Bat  (None, 56, 56, 256)          1024      ['conv2d_3[0][0]']            \n",
            " chNormalization)                                                                                 \n",
            "                                                                                                  \n",
            " batch_normalization_3 (Bat  (None, 56, 56, 256)          1024      ['conv2d_4[0][0]']            \n",
            " chNormalization)                                                                                 \n",
            "                                                                                                  \n",
            " add (Add)                   (None, 56, 56, 256)          0         ['batch_normalization_4[0][0]'\n",
            "                                                                    , 'batch_normalization_3[0][0]\n",
            "                                                                    ']                            \n",
            "                                                                                                  \n",
            " re_lu_3 (ReLU)              (None, 56, 56, 256)          0         ['add[0][0]']                 \n",
            "                                                                                                  \n",
            " conv2d_5 (Conv2D)           (None, 56, 56, 64)           16448     ['re_lu_3[0][0]']             \n",
            "                                                                                                  \n",
            " batch_normalization_5 (Bat  (None, 56, 56, 64)           256       ['conv2d_5[0][0]']            \n",
            " chNormalization)                                                                                 \n",
            "                                                                                                  \n",
            " re_lu_4 (ReLU)              (None, 56, 56, 64)           0         ['batch_normalization_5[0][0]'\n",
            "                                                                    ]                             \n",
            "                                                                                                  \n",
            " conv2d_6 (Conv2D)           (None, 56, 56, 64)           36928     ['re_lu_4[0][0]']             \n",
            "                                                                                                  \n",
            " batch_normalization_6 (Bat  (None, 56, 56, 64)           256       ['conv2d_6[0][0]']            \n",
            " chNormalization)                                                                                 \n",
            "                                                                                                  \n",
            " re_lu_5 (ReLU)              (None, 56, 56, 64)           0         ['batch_normalization_6[0][0]'\n",
            "                                                                    ]                             \n",
            "                                                                                                  \n",
            " conv2d_7 (Conv2D)           (None, 56, 56, 256)          16640     ['re_lu_5[0][0]']             \n",
            "                                                                                                  \n",
            " batch_normalization_7 (Bat  (None, 56, 56, 256)          1024      ['conv2d_7[0][0]']            \n",
            " chNormalization)                                                                                 \n",
            "                                                                                                  \n",
            " add_1 (Add)                 (None, 56, 56, 256)          0         ['batch_normalization_7[0][0]'\n",
            "                                                                    , 're_lu_3[0][0]']            \n",
            "                                                                                                  \n",
            " re_lu_6 (ReLU)              (None, 56, 56, 256)          0         ['add_1[0][0]']               \n",
            "                                                                                                  \n",
            " conv2d_8 (Conv2D)           (None, 56, 56, 64)           16448     ['re_lu_6[0][0]']             \n",
            "                                                                                                  \n",
            " batch_normalization_8 (Bat  (None, 56, 56, 64)           256       ['conv2d_8[0][0]']            \n",
            " chNormalization)                                                                                 \n",
            "                                                                                                  \n",
            " re_lu_7 (ReLU)              (None, 56, 56, 64)           0         ['batch_normalization_8[0][0]'\n",
            "                                                                    ]                             \n",
            "                                                                                                  \n",
            " conv2d_9 (Conv2D)           (None, 56, 56, 64)           36928     ['re_lu_7[0][0]']             \n",
            "                                                                                                  \n",
            " batch_normalization_9 (Bat  (None, 56, 56, 64)           256       ['conv2d_9[0][0]']            \n",
            " chNormalization)                                                                                 \n",
            "                                                                                                  \n",
            " re_lu_8 (ReLU)              (None, 56, 56, 64)           0         ['batch_normalization_9[0][0]'\n",
            "                                                                    ]                             \n",
            "                                                                                                  \n",
            " conv2d_10 (Conv2D)          (None, 56, 56, 256)          16640     ['re_lu_8[0][0]']             \n",
            "                                                                                                  \n",
            " batch_normalization_10 (Ba  (None, 56, 56, 256)          1024      ['conv2d_10[0][0]']           \n",
            " tchNormalization)                                                                                \n",
            "                                                                                                  \n",
            " add_2 (Add)                 (None, 56, 56, 256)          0         ['batch_normalization_10[0][0]\n",
            "                                                                    ',                            \n",
            "                                                                     're_lu_6[0][0]']             \n",
            "                                                                                                  \n",
            " re_lu_9 (ReLU)              (None, 56, 56, 256)          0         ['add_2[0][0]']               \n",
            "                                                                                                  \n",
            " conv2d_11 (Conv2D)          (None, 28, 28, 128)          32896     ['re_lu_9[0][0]']             \n",
            "                                                                                                  \n",
            " batch_normalization_11 (Ba  (None, 28, 28, 128)          512       ['conv2d_11[0][0]']           \n",
            " tchNormalization)                                                                                \n",
            "                                                                                                  \n",
            " re_lu_10 (ReLU)             (None, 28, 28, 128)          0         ['batch_normalization_11[0][0]\n",
            "                                                                    ']                            \n",
            "                                                                                                  \n",
            " conv2d_12 (Conv2D)          (None, 28, 28, 128)          147584    ['re_lu_10[0][0]']            \n",
            "                                                                                                  \n",
            " batch_normalization_12 (Ba  (None, 28, 28, 128)          512       ['conv2d_12[0][0]']           \n",
            " tchNormalization)                                                                                \n",
            "                                                                                                  \n",
            " re_lu_11 (ReLU)             (None, 28, 28, 128)          0         ['batch_normalization_12[0][0]\n",
            "                                                                    ']                            \n",
            "                                                                                                  \n",
            " conv2d_13 (Conv2D)          (None, 28, 28, 512)          66048     ['re_lu_11[0][0]']            \n",
            "                                                                                                  \n",
            " conv2d_14 (Conv2D)          (None, 28, 28, 512)          131584    ['re_lu_9[0][0]']             \n",
            "                                                                                                  \n",
            " batch_normalization_14 (Ba  (None, 28, 28, 512)          2048      ['conv2d_13[0][0]']           \n",
            " tchNormalization)                                                                                \n",
            "                                                                                                  \n",
            " batch_normalization_13 (Ba  (None, 28, 28, 512)          2048      ['conv2d_14[0][0]']           \n",
            " tchNormalization)                                                                                \n",
            "                                                                                                  \n",
            " add_3 (Add)                 (None, 28, 28, 512)          0         ['batch_normalization_14[0][0]\n",
            "                                                                    ',                            \n",
            "                                                                     'batch_normalization_13[0][0]\n",
            "                                                                    ']                            \n",
            "                                                                                                  \n",
            " re_lu_12 (ReLU)             (None, 28, 28, 512)          0         ['add_3[0][0]']               \n",
            "                                                                                                  \n",
            " conv2d_15 (Conv2D)          (None, 28, 28, 128)          65664     ['re_lu_12[0][0]']            \n",
            "                                                                                                  \n",
            " batch_normalization_15 (Ba  (None, 28, 28, 128)          512       ['conv2d_15[0][0]']           \n",
            " tchNormalization)                                                                                \n",
            "                                                                                                  \n",
            " re_lu_13 (ReLU)             (None, 28, 28, 128)          0         ['batch_normalization_15[0][0]\n",
            "                                                                    ']                            \n",
            "                                                                                                  \n",
            " conv2d_16 (Conv2D)          (None, 28, 28, 128)          147584    ['re_lu_13[0][0]']            \n",
            "                                                                                                  \n",
            " batch_normalization_16 (Ba  (None, 28, 28, 128)          512       ['conv2d_16[0][0]']           \n",
            " tchNormalization)                                                                                \n",
            "                                                                                                  \n",
            " re_lu_14 (ReLU)             (None, 28, 28, 128)          0         ['batch_normalization_16[0][0]\n",
            "                                                                    ']                            \n",
            "                                                                                                  \n",
            " conv2d_17 (Conv2D)          (None, 28, 28, 512)          66048     ['re_lu_14[0][0]']            \n",
            "                                                                                                  \n",
            " batch_normalization_17 (Ba  (None, 28, 28, 512)          2048      ['conv2d_17[0][0]']           \n",
            " tchNormalization)                                                                                \n",
            "                                                                                                  \n",
            " add_4 (Add)                 (None, 28, 28, 512)          0         ['batch_normalization_17[0][0]\n",
            "                                                                    ',                            \n",
            "                                                                     're_lu_12[0][0]']            \n",
            "                                                                                                  \n",
            " re_lu_15 (ReLU)             (None, 28, 28, 512)          0         ['add_4[0][0]']               \n",
            "                                                                                                  \n",
            " conv2d_18 (Conv2D)          (None, 28, 28, 128)          65664     ['re_lu_15[0][0]']            \n",
            "                                                                                                  \n",
            " batch_normalization_18 (Ba  (None, 28, 28, 128)          512       ['conv2d_18[0][0]']           \n",
            " tchNormalization)                                                                                \n",
            "                                                                                                  \n",
            " re_lu_16 (ReLU)             (None, 28, 28, 128)          0         ['batch_normalization_18[0][0]\n",
            "                                                                    ']                            \n",
            "                                                                                                  \n",
            " conv2d_19 (Conv2D)          (None, 28, 28, 128)          147584    ['re_lu_16[0][0]']            \n",
            "                                                                                                  \n",
            " batch_normalization_19 (Ba  (None, 28, 28, 128)          512       ['conv2d_19[0][0]']           \n",
            " tchNormalization)                                                                                \n",
            "                                                                                                  \n",
            " re_lu_17 (ReLU)             (None, 28, 28, 128)          0         ['batch_normalization_19[0][0]\n",
            "                                                                    ']                            \n",
            "                                                                                                  \n",
            " conv2d_20 (Conv2D)          (None, 28, 28, 512)          66048     ['re_lu_17[0][0]']            \n",
            "                                                                                                  \n",
            " batch_normalization_20 (Ba  (None, 28, 28, 512)          2048      ['conv2d_20[0][0]']           \n",
            " tchNormalization)                                                                                \n",
            "                                                                                                  \n",
            " add_5 (Add)                 (None, 28, 28, 512)          0         ['batch_normalization_20[0][0]\n",
            "                                                                    ',                            \n",
            "                                                                     're_lu_15[0][0]']            \n",
            "                                                                                                  \n",
            " re_lu_18 (ReLU)             (None, 28, 28, 512)          0         ['add_5[0][0]']               \n",
            "                                                                                                  \n",
            " conv2d_21 (Conv2D)          (None, 28, 28, 128)          65664     ['re_lu_18[0][0]']            \n",
            "                                                                                                  \n",
            " batch_normalization_21 (Ba  (None, 28, 28, 128)          512       ['conv2d_21[0][0]']           \n",
            " tchNormalization)                                                                                \n",
            "                                                                                                  \n",
            " re_lu_19 (ReLU)             (None, 28, 28, 128)          0         ['batch_normalization_21[0][0]\n",
            "                                                                    ']                            \n",
            "                                                                                                  \n",
            " conv2d_22 (Conv2D)          (None, 28, 28, 128)          147584    ['re_lu_19[0][0]']            \n",
            "                                                                                                  \n",
            " batch_normalization_22 (Ba  (None, 28, 28, 128)          512       ['conv2d_22[0][0]']           \n",
            " tchNormalization)                                                                                \n",
            "                                                                                                  \n",
            " re_lu_20 (ReLU)             (None, 28, 28, 128)          0         ['batch_normalization_22[0][0]\n",
            "                                                                    ']                            \n",
            "                                                                                                  \n",
            " conv2d_23 (Conv2D)          (None, 28, 28, 512)          66048     ['re_lu_20[0][0]']            \n",
            "                                                                                                  \n",
            " batch_normalization_23 (Ba  (None, 28, 28, 512)          2048      ['conv2d_23[0][0]']           \n",
            " tchNormalization)                                                                                \n",
            "                                                                                                  \n",
            " add_6 (Add)                 (None, 28, 28, 512)          0         ['batch_normalization_23[0][0]\n",
            "                                                                    ',                            \n",
            "                                                                     're_lu_18[0][0]']            \n",
            "                                                                                                  \n",
            " re_lu_21 (ReLU)             (None, 28, 28, 512)          0         ['add_6[0][0]']               \n",
            "                                                                                                  \n",
            " conv2d_24 (Conv2D)          (None, 14, 14, 256)          131328    ['re_lu_21[0][0]']            \n",
            "                                                                                                  \n",
            " batch_normalization_24 (Ba  (None, 14, 14, 256)          1024      ['conv2d_24[0][0]']           \n",
            " tchNormalization)                                                                                \n",
            "                                                                                                  \n",
            " re_lu_22 (ReLU)             (None, 14, 14, 256)          0         ['batch_normalization_24[0][0]\n",
            "                                                                    ']                            \n",
            "                                                                                                  \n",
            " conv2d_25 (Conv2D)          (None, 14, 14, 256)          590080    ['re_lu_22[0][0]']            \n",
            "                                                                                                  \n",
            " batch_normalization_25 (Ba  (None, 14, 14, 256)          1024      ['conv2d_25[0][0]']           \n",
            " tchNormalization)                                                                                \n",
            "                                                                                                  \n",
            " re_lu_23 (ReLU)             (None, 14, 14, 256)          0         ['batch_normalization_25[0][0]\n",
            "                                                                    ']                            \n",
            "                                                                                                  \n",
            " conv2d_26 (Conv2D)          (None, 14, 14, 1024)         263168    ['re_lu_23[0][0]']            \n",
            "                                                                                                  \n",
            " conv2d_27 (Conv2D)          (None, 14, 14, 1024)         525312    ['re_lu_21[0][0]']            \n",
            "                                                                                                  \n",
            " batch_normalization_27 (Ba  (None, 14, 14, 1024)         4096      ['conv2d_26[0][0]']           \n",
            " tchNormalization)                                                                                \n",
            "                                                                                                  \n",
            " batch_normalization_26 (Ba  (None, 14, 14, 1024)         4096      ['conv2d_27[0][0]']           \n",
            " tchNormalization)                                                                                \n",
            "                                                                                                  \n",
            " add_7 (Add)                 (None, 14, 14, 1024)         0         ['batch_normalization_27[0][0]\n",
            "                                                                    ',                            \n",
            "                                                                     'batch_normalization_26[0][0]\n",
            "                                                                    ']                            \n",
            "                                                                                                  \n",
            " re_lu_24 (ReLU)             (None, 14, 14, 1024)         0         ['add_7[0][0]']               \n",
            "                                                                                                  \n",
            " conv2d_28 (Conv2D)          (None, 14, 14, 256)          262400    ['re_lu_24[0][0]']            \n",
            "                                                                                                  \n",
            " batch_normalization_28 (Ba  (None, 14, 14, 256)          1024      ['conv2d_28[0][0]']           \n",
            " tchNormalization)                                                                                \n",
            "                                                                                                  \n",
            " re_lu_25 (ReLU)             (None, 14, 14, 256)          0         ['batch_normalization_28[0][0]\n",
            "                                                                    ']                            \n",
            "                                                                                                  \n",
            " conv2d_29 (Conv2D)          (None, 14, 14, 256)          590080    ['re_lu_25[0][0]']            \n",
            "                                                                                                  \n",
            " batch_normalization_29 (Ba  (None, 14, 14, 256)          1024      ['conv2d_29[0][0]']           \n",
            " tchNormalization)                                                                                \n",
            "                                                                                                  \n",
            " re_lu_26 (ReLU)             (None, 14, 14, 256)          0         ['batch_normalization_29[0][0]\n",
            "                                                                    ']                            \n",
            "                                                                                                  \n",
            " conv2d_30 (Conv2D)          (None, 14, 14, 1024)         263168    ['re_lu_26[0][0]']            \n",
            "                                                                                                  \n",
            " batch_normalization_30 (Ba  (None, 14, 14, 1024)         4096      ['conv2d_30[0][0]']           \n",
            " tchNormalization)                                                                                \n",
            "                                                                                                  \n",
            " add_8 (Add)                 (None, 14, 14, 1024)         0         ['batch_normalization_30[0][0]\n",
            "                                                                    ',                            \n",
            "                                                                     're_lu_24[0][0]']            \n",
            "                                                                                                  \n",
            " re_lu_27 (ReLU)             (None, 14, 14, 1024)         0         ['add_8[0][0]']               \n",
            "                                                                                                  \n",
            " conv2d_31 (Conv2D)          (None, 14, 14, 256)          262400    ['re_lu_27[0][0]']            \n",
            "                                                                                                  \n",
            " batch_normalization_31 (Ba  (None, 14, 14, 256)          1024      ['conv2d_31[0][0]']           \n",
            " tchNormalization)                                                                                \n",
            "                                                                                                  \n",
            " re_lu_28 (ReLU)             (None, 14, 14, 256)          0         ['batch_normalization_31[0][0]\n",
            "                                                                    ']                            \n",
            "                                                                                                  \n",
            " conv2d_32 (Conv2D)          (None, 14, 14, 256)          590080    ['re_lu_28[0][0]']            \n",
            "                                                                                                  \n",
            " batch_normalization_32 (Ba  (None, 14, 14, 256)          1024      ['conv2d_32[0][0]']           \n",
            " tchNormalization)                                                                                \n",
            "                                                                                                  \n",
            " re_lu_29 (ReLU)             (None, 14, 14, 256)          0         ['batch_normalization_32[0][0]\n",
            "                                                                    ']                            \n",
            "                                                                                                  \n",
            " conv2d_33 (Conv2D)          (None, 14, 14, 1024)         263168    ['re_lu_29[0][0]']            \n",
            "                                                                                                  \n",
            " batch_normalization_33 (Ba  (None, 14, 14, 1024)         4096      ['conv2d_33[0][0]']           \n",
            " tchNormalization)                                                                                \n",
            "                                                                                                  \n",
            " add_9 (Add)                 (None, 14, 14, 1024)         0         ['batch_normalization_33[0][0]\n",
            "                                                                    ',                            \n",
            "                                                                     're_lu_27[0][0]']            \n",
            "                                                                                                  \n",
            " re_lu_30 (ReLU)             (None, 14, 14, 1024)         0         ['add_9[0][0]']               \n",
            "                                                                                                  \n",
            " conv2d_34 (Conv2D)          (None, 14, 14, 256)          262400    ['re_lu_30[0][0]']            \n",
            "                                                                                                  \n",
            " batch_normalization_34 (Ba  (None, 14, 14, 256)          1024      ['conv2d_34[0][0]']           \n",
            " tchNormalization)                                                                                \n",
            "                                                                                                  \n",
            " re_lu_31 (ReLU)             (None, 14, 14, 256)          0         ['batch_normalization_34[0][0]\n",
            "                                                                    ']                            \n",
            "                                                                                                  \n",
            " conv2d_35 (Conv2D)          (None, 14, 14, 256)          590080    ['re_lu_31[0][0]']            \n",
            "                                                                                                  \n",
            " batch_normalization_35 (Ba  (None, 14, 14, 256)          1024      ['conv2d_35[0][0]']           \n",
            " tchNormalization)                                                                                \n",
            "                                                                                                  \n",
            " re_lu_32 (ReLU)             (None, 14, 14, 256)          0         ['batch_normalization_35[0][0]\n",
            "                                                                    ']                            \n",
            "                                                                                                  \n",
            " conv2d_36 (Conv2D)          (None, 14, 14, 1024)         263168    ['re_lu_32[0][0]']            \n",
            "                                                                                                  \n",
            " batch_normalization_36 (Ba  (None, 14, 14, 1024)         4096      ['conv2d_36[0][0]']           \n",
            " tchNormalization)                                                                                \n",
            "                                                                                                  \n",
            " add_10 (Add)                (None, 14, 14, 1024)         0         ['batch_normalization_36[0][0]\n",
            "                                                                    ',                            \n",
            "                                                                     're_lu_30[0][0]']            \n",
            "                                                                                                  \n",
            " re_lu_33 (ReLU)             (None, 14, 14, 1024)         0         ['add_10[0][0]']              \n",
            "                                                                                                  \n",
            " conv2d_37 (Conv2D)          (None, 14, 14, 256)          262400    ['re_lu_33[0][0]']            \n",
            "                                                                                                  \n",
            " batch_normalization_37 (Ba  (None, 14, 14, 256)          1024      ['conv2d_37[0][0]']           \n",
            " tchNormalization)                                                                                \n",
            "                                                                                                  \n",
            " re_lu_34 (ReLU)             (None, 14, 14, 256)          0         ['batch_normalization_37[0][0]\n",
            "                                                                    ']                            \n",
            "                                                                                                  \n",
            " conv2d_38 (Conv2D)          (None, 14, 14, 256)          590080    ['re_lu_34[0][0]']            \n",
            "                                                                                                  \n",
            " batch_normalization_38 (Ba  (None, 14, 14, 256)          1024      ['conv2d_38[0][0]']           \n",
            " tchNormalization)                                                                                \n",
            "                                                                                                  \n",
            " re_lu_35 (ReLU)             (None, 14, 14, 256)          0         ['batch_normalization_38[0][0]\n",
            "                                                                    ']                            \n",
            "                                                                                                  \n",
            " conv2d_39 (Conv2D)          (None, 14, 14, 1024)         263168    ['re_lu_35[0][0]']            \n",
            "                                                                                                  \n",
            " batch_normalization_39 (Ba  (None, 14, 14, 1024)         4096      ['conv2d_39[0][0]']           \n",
            " tchNormalization)                                                                                \n",
            "                                                                                                  \n",
            " add_11 (Add)                (None, 14, 14, 1024)         0         ['batch_normalization_39[0][0]\n",
            "                                                                    ',                            \n",
            "                                                                     're_lu_33[0][0]']            \n",
            "                                                                                                  \n",
            " re_lu_36 (ReLU)             (None, 14, 14, 1024)         0         ['add_11[0][0]']              \n",
            "                                                                                                  \n",
            " conv2d_40 (Conv2D)          (None, 7, 7, 512)            524800    ['re_lu_36[0][0]']            \n",
            "                                                                                                  \n",
            " batch_normalization_40 (Ba  (None, 7, 7, 512)            2048      ['conv2d_40[0][0]']           \n",
            " tchNormalization)                                                                                \n",
            "                                                                                                  \n",
            " re_lu_37 (ReLU)             (None, 7, 7, 512)            0         ['batch_normalization_40[0][0]\n",
            "                                                                    ']                            \n",
            "                                                                                                  \n",
            " conv2d_41 (Conv2D)          (None, 7, 7, 512)            2359808   ['re_lu_37[0][0]']            \n",
            "                                                                                                  \n",
            " batch_normalization_41 (Ba  (None, 7, 7, 512)            2048      ['conv2d_41[0][0]']           \n",
            " tchNormalization)                                                                                \n",
            "                                                                                                  \n",
            " re_lu_38 (ReLU)             (None, 7, 7, 512)            0         ['batch_normalization_41[0][0]\n",
            "                                                                    ']                            \n",
            "                                                                                                  \n",
            " conv2d_42 (Conv2D)          (None, 7, 7, 2048)           1050624   ['re_lu_38[0][0]']            \n",
            "                                                                                                  \n",
            " conv2d_43 (Conv2D)          (None, 7, 7, 2048)           2099200   ['re_lu_36[0][0]']            \n",
            "                                                                                                  \n",
            " batch_normalization_43 (Ba  (None, 7, 7, 2048)           8192      ['conv2d_42[0][0]']           \n",
            " tchNormalization)                                                                                \n",
            "                                                                                                  \n",
            " batch_normalization_42 (Ba  (None, 7, 7, 2048)           8192      ['conv2d_43[0][0]']           \n",
            " tchNormalization)                                                                                \n",
            "                                                                                                  \n",
            " add_12 (Add)                (None, 7, 7, 2048)           0         ['batch_normalization_43[0][0]\n",
            "                                                                    ',                            \n",
            "                                                                     'batch_normalization_42[0][0]\n",
            "                                                                    ']                            \n",
            "                                                                                                  \n",
            " re_lu_39 (ReLU)             (None, 7, 7, 2048)           0         ['add_12[0][0]']              \n",
            "                                                                                                  \n",
            " conv2d_44 (Conv2D)          (None, 7, 7, 512)            1049088   ['re_lu_39[0][0]']            \n",
            "                                                                                                  \n",
            " batch_normalization_44 (Ba  (None, 7, 7, 512)            2048      ['conv2d_44[0][0]']           \n",
            " tchNormalization)                                                                                \n",
            "                                                                                                  \n",
            " re_lu_40 (ReLU)             (None, 7, 7, 512)            0         ['batch_normalization_44[0][0]\n",
            "                                                                    ']                            \n",
            "                                                                                                  \n",
            " conv2d_45 (Conv2D)          (None, 7, 7, 512)            2359808   ['re_lu_40[0][0]']            \n",
            "                                                                                                  \n",
            " batch_normalization_45 (Ba  (None, 7, 7, 512)            2048      ['conv2d_45[0][0]']           \n",
            " tchNormalization)                                                                                \n",
            "                                                                                                  \n",
            " re_lu_41 (ReLU)             (None, 7, 7, 512)            0         ['batch_normalization_45[0][0]\n",
            "                                                                    ']                            \n",
            "                                                                                                  \n",
            " conv2d_46 (Conv2D)          (None, 7, 7, 2048)           1050624   ['re_lu_41[0][0]']            \n",
            "                                                                                                  \n",
            " batch_normalization_46 (Ba  (None, 7, 7, 2048)           8192      ['conv2d_46[0][0]']           \n",
            " tchNormalization)                                                                                \n",
            "                                                                                                  \n",
            " add_13 (Add)                (None, 7, 7, 2048)           0         ['batch_normalization_46[0][0]\n",
            "                                                                    ',                            \n",
            "                                                                     're_lu_39[0][0]']            \n",
            "                                                                                                  \n",
            " re_lu_42 (ReLU)             (None, 7, 7, 2048)           0         ['add_13[0][0]']              \n",
            "                                                                                                  \n",
            " conv2d_47 (Conv2D)          (None, 7, 7, 512)            1049088   ['re_lu_42[0][0]']            \n",
            "                                                                                                  \n",
            " batch_normalization_47 (Ba  (None, 7, 7, 512)            2048      ['conv2d_47[0][0]']           \n",
            " tchNormalization)                                                                                \n",
            "                                                                                                  \n",
            " re_lu_43 (ReLU)             (None, 7, 7, 512)            0         ['batch_normalization_47[0][0]\n",
            "                                                                    ']                            \n",
            "                                                                                                  \n",
            " conv2d_48 (Conv2D)          (None, 7, 7, 512)            2359808   ['re_lu_43[0][0]']            \n",
            "                                                                                                  \n",
            " batch_normalization_48 (Ba  (None, 7, 7, 512)            2048      ['conv2d_48[0][0]']           \n",
            " tchNormalization)                                                                                \n",
            "                                                                                                  \n",
            " re_lu_44 (ReLU)             (None, 7, 7, 512)            0         ['batch_normalization_48[0][0]\n",
            "                                                                    ']                            \n",
            "                                                                                                  \n",
            " conv2d_49 (Conv2D)          (None, 7, 7, 2048)           1050624   ['re_lu_44[0][0]']            \n",
            "                                                                                                  \n",
            " batch_normalization_49 (Ba  (None, 7, 7, 2048)           8192      ['conv2d_49[0][0]']           \n",
            " tchNormalization)                                                                                \n",
            "                                                                                                  \n",
            " add_14 (Add)                (None, 7, 7, 2048)           0         ['batch_normalization_49[0][0]\n",
            "                                                                    ',                            \n",
            "                                                                     're_lu_42[0][0]']            \n",
            "                                                                                                  \n",
            " re_lu_45 (ReLU)             (None, 7, 7, 2048)           0         ['add_14[0][0]']              \n",
            "                                                                                                  \n",
            " global_average_pooling2d (  (None, 2048)                 0         ['re_lu_45[0][0]']            \n",
            " GlobalAveragePooling2D)                                                                          \n",
            "                                                                                                  \n",
            " dense (Dense)               (None, 4)                    8196      ['global_average_pooling2d[0][\n",
            "                                                                    0]']                          \n",
            "                                                                                                  \n",
            "==================================================================================================\n",
            "Total params: 22474116 (85.73 MB)\n",
            "Trainable params: 22424068 (85.54 MB)\n",
            "Non-trainable params: 50048 (195.50 KB)\n",
            "__________________________________________________________________________________________________\n"
          ]
        }
      ],
      "source": [
        "import tensorflow as tf\n",
        "from tensorflow.keras.layers import Input, Conv2D, BatchNormalization, ReLU, MaxPooling2D, GlobalAveragePooling2D, Dense\n",
        "from tensorflow.keras.models import Model\n",
        "\n",
        "def conv_block(x, filters, kernel_size, strides=(1, 1), padding=\"same\"):\n",
        "    x = Conv2D(filters, kernel_size, strides=strides, padding=padding)(x)\n",
        "    x = BatchNormalization()(x)\n",
        "    x = ReLU()(x)\n",
        "    return x\n",
        "\n",
        "def identity_block(x, filters, kernel_size):\n",
        "    shortcut = x\n",
        "    x = conv_block(x, filters[0], (1, 1))\n",
        "    x = conv_block(x, filters[1], kernel_size)\n",
        "    x = Conv2D(filters[2], (1, 1))(x)\n",
        "    x = BatchNormalization()(x)\n",
        "    x = tf.keras.layers.add([x, shortcut])\n",
        "    x = ReLU()(x)\n",
        "    return x\n",
        "\n",
        "def projection_block(x, filters, kernel_size, strides=(2, 2)):\n",
        "    shortcut = x\n",
        "    x = conv_block(x, filters[0], (1, 1), strides=strides)\n",
        "    x = conv_block(x, filters[1], kernel_size)\n",
        "    x = Conv2D(filters[2], (1, 1))(x)\n",
        "    shortcut = Conv2D(filters[2], (1, 1), strides=strides)(shortcut)\n",
        "    shortcut = BatchNormalization()(shortcut)\n",
        "    x = BatchNormalization()(x)\n",
        "    x = tf.keras.layers.add([x, shortcut])\n",
        "    x = ReLU()(x)\n",
        "    return x\n",
        "\n",
        "input_shape = (224, 224, 3)\n",
        "input_tensor = Input(shape=input_shape)\n",
        "\n",
        "x = conv_block(input_tensor, 64, (7, 7), strides=(2, 2))\n",
        "x = MaxPooling2D((3, 3), strides=(2, 2), padding=\"same\")(x)\n",
        "\n",
        "x = projection_block(x, [64, 64, 256], 3, strides=(1, 1))\n",
        "x = identity_block(x, [64, 64, 256], 3)\n",
        "x = identity_block(x, [64, 64, 256], 3)\n",
        "\n",
        "x = projection_block(x, [128, 128, 512], 3)\n",
        "x = identity_block(x, [128, 128, 512], 3)\n",
        "x = identity_block(x, [128, 128, 512], 3)\n",
        "x = identity_block(x, [128, 128, 512], 3)\n",
        "\n",
        "x = projection_block(x, [256, 256, 1024], 3)\n",
        "x = identity_block(x, [256, 256, 1024], 3)\n",
        "x = identity_block(x, [256, 256, 1024], 3)\n",
        "x = identity_block(x, [256, 256, 1024], 3)\n",
        "x = identity_block(x, [256, 256, 1024], 3)\n",
        "\n",
        "x = projection_block(x, [512, 512, 2048], 3)\n",
        "x = identity_block(x, [512, 512, 2048], 3)\n",
        "x = identity_block(x, [512, 512, 2048], 3)\n",
        "\n",
        "x = GlobalAveragePooling2D()(x)\n",
        "output_tensor = Dense(4, activation='softmax')(x)\n",
        "\n",
        "model = Model(inputs=input_tensor, outputs=output_tensor)\n",
        "\n",
        "model.summary()\n"
      ]
    },
    {
      "cell_type": "code",
      "source": [
        "from keras.optimizers import Adam\n",
        "model.compile(optimizer='adam', loss='binary_crossentropy', metrics=['accuracy'])"
      ],
      "metadata": {
        "id": "svii4Ie8olHe"
      },
      "execution_count": 10,
      "outputs": []
    },
    {
      "cell_type": "code",
      "source": [
        "from keras.utils import to_categorical\n",
        "from sklearn.model_selection import train_test_split"
      ],
      "metadata": {
        "id": "3jshKOoNmCXG"
      },
      "execution_count": 11,
      "outputs": []
    },
    {
      "cell_type": "code",
      "source": [
        "# Convert labels to one-hot encoded format\n",
        "label_to_id = {class_names: idx for idx, class_names in enumerate(np.unique(train_labels))}\n",
        "train_labels_encoded = np.array([label_to_id[class_names] for class_names in train_labels])\n",
        "train_labels_onehot = to_categorical(train_labels_encoded)"
      ],
      "metadata": {
        "id": "mRZrLrQumF57"
      },
      "execution_count": 12,
      "outputs": []
    },
    {
      "cell_type": "code",
      "source": [
        "# Split the data into training and testing sets\n",
        "X_train, X_test, y_train, y_test = train_test_split(train_images, train_labels_onehot, test_size=0.2, random_state=42)"
      ],
      "metadata": {
        "id": "jscAZGrnmIAn"
      },
      "execution_count": 13,
      "outputs": []
    },
    {
      "cell_type": "code",
      "source": [
        "# Train the model\n",
        "batch_size = 32\n",
        "epochs = 50"
      ],
      "metadata": {
        "id": "Qk_Ld7i3mKdt"
      },
      "execution_count": 14,
      "outputs": []
    },
    {
      "cell_type": "code",
      "source": [
        "history = model.fit(X_train, y_train, batch_size=batch_size, epochs=epochs, validation_split=0.2)"
      ],
      "metadata": {
        "colab": {
          "base_uri": "https://localhost:8080/"
        },
        "id": "t0U-dKVSmNfd",
        "outputId": "240d2284-7907-465b-f5ed-310cb677d049"
      },
      "execution_count": 15,
      "outputs": [
        {
          "output_type": "stream",
          "name": "stdout",
          "text": [
            "Epoch 1/50\n",
            "28/28 [==============================] - 54s 435ms/step - loss: 0.6020 - accuracy: 0.5913 - val_loss: 0.7434 - val_accuracy: 0.2318\n",
            "Epoch 2/50\n",
            "28/28 [==============================] - 8s 293ms/step - loss: 0.2544 - accuracy: 0.8139 - val_loss: 2.4882 - val_accuracy: 0.2318\n",
            "Epoch 3/50\n",
            "28/28 [==============================] - 8s 295ms/step - loss: 0.2381 - accuracy: 0.8288 - val_loss: 3.9012 - val_accuracy: 0.2318\n",
            "Epoch 4/50\n",
            "28/28 [==============================] - 8s 296ms/step - loss: 0.1443 - accuracy: 0.9041 - val_loss: 4.8017 - val_accuracy: 0.2318\n",
            "Epoch 5/50\n",
            "28/28 [==============================] - 8s 298ms/step - loss: 0.1460 - accuracy: 0.9030 - val_loss: 9.1984 - val_accuracy: 0.2318\n",
            "Epoch 6/50\n",
            "28/28 [==============================] - 8s 299ms/step - loss: 0.1190 - accuracy: 0.9258 - val_loss: 8.3692 - val_accuracy: 0.2318\n",
            "Epoch 7/50\n",
            "28/28 [==============================] - 8s 300ms/step - loss: 0.0701 - accuracy: 0.9578 - val_loss: 10.6162 - val_accuracy: 0.2318\n",
            "Epoch 8/50\n",
            "28/28 [==============================] - 8s 301ms/step - loss: 0.0824 - accuracy: 0.9498 - val_loss: 8.0736 - val_accuracy: 0.2318\n",
            "Epoch 9/50\n",
            "28/28 [==============================] - 8s 303ms/step - loss: 0.0853 - accuracy: 0.9509 - val_loss: 4.3733 - val_accuracy: 0.2864\n",
            "Epoch 10/50\n",
            "28/28 [==============================] - 8s 304ms/step - loss: 0.1068 - accuracy: 0.9361 - val_loss: 7.9953 - val_accuracy: 0.2727\n",
            "Epoch 11/50\n",
            "28/28 [==============================] - 9s 305ms/step - loss: 0.1104 - accuracy: 0.9372 - val_loss: 2.0123 - val_accuracy: 0.4091\n",
            "Epoch 12/50\n",
            "28/28 [==============================] - 9s 306ms/step - loss: 0.0577 - accuracy: 0.9703 - val_loss: 2.5787 - val_accuracy: 0.4864\n",
            "Epoch 13/50\n",
            "28/28 [==============================] - 9s 307ms/step - loss: 0.0675 - accuracy: 0.9578 - val_loss: 0.9358 - val_accuracy: 0.7227\n",
            "Epoch 14/50\n",
            "28/28 [==============================] - 9s 309ms/step - loss: 0.0525 - accuracy: 0.9669 - val_loss: 2.0172 - val_accuracy: 0.4682\n",
            "Epoch 15/50\n",
            "28/28 [==============================] - 9s 310ms/step - loss: 0.0541 - accuracy: 0.9715 - val_loss: 0.7790 - val_accuracy: 0.6636\n",
            "Epoch 16/50\n",
            "28/28 [==============================] - 9s 311ms/step - loss: 0.0288 - accuracy: 0.9909 - val_loss: 1.4492 - val_accuracy: 0.5409\n",
            "Epoch 17/50\n",
            "28/28 [==============================] - 9s 313ms/step - loss: 0.0194 - accuracy: 0.9920 - val_loss: 0.9690 - val_accuracy: 0.6409\n",
            "Epoch 18/50\n",
            "28/28 [==============================] - 9s 315ms/step - loss: 0.0722 - accuracy: 0.9635 - val_loss: 9.7599 - val_accuracy: 0.3000\n",
            "Epoch 19/50\n",
            "28/28 [==============================] - 9s 321ms/step - loss: 0.0599 - accuracy: 0.9703 - val_loss: 50.9114 - val_accuracy: 0.3682\n",
            "Epoch 20/50\n",
            "28/28 [==============================] - 9s 328ms/step - loss: 0.0251 - accuracy: 0.9886 - val_loss: 0.6202 - val_accuracy: 0.7182\n",
            "Epoch 21/50\n",
            "28/28 [==============================] - 9s 336ms/step - loss: 0.0512 - accuracy: 0.9715 - val_loss: 1.9771 - val_accuracy: 0.5318\n",
            "Epoch 22/50\n",
            "28/28 [==============================] - 9s 338ms/step - loss: 0.0383 - accuracy: 0.9726 - val_loss: 1.0009 - val_accuracy: 0.7591\n",
            "Epoch 23/50\n",
            "28/28 [==============================] - 9s 331ms/step - loss: 0.0285 - accuracy: 0.9863 - val_loss: 1.0124 - val_accuracy: 0.6136\n",
            "Epoch 24/50\n",
            "28/28 [==============================] - 9s 326ms/step - loss: 0.0325 - accuracy: 0.9829 - val_loss: 1.1134 - val_accuracy: 0.6227\n",
            "Epoch 25/50\n",
            "28/28 [==============================] - 9s 323ms/step - loss: 0.0380 - accuracy: 0.9783 - val_loss: 0.4332 - val_accuracy: 0.8227\n",
            "Epoch 26/50\n",
            "28/28 [==============================] - 9s 322ms/step - loss: 0.0711 - accuracy: 0.9578 - val_loss: 0.9198 - val_accuracy: 0.6273\n",
            "Epoch 27/50\n",
            "28/28 [==============================] - 9s 321ms/step - loss: 0.0358 - accuracy: 0.9840 - val_loss: 0.4069 - val_accuracy: 0.8227\n",
            "Epoch 28/50\n",
            "28/28 [==============================] - 9s 322ms/step - loss: 0.0221 - accuracy: 0.9874 - val_loss: 0.2775 - val_accuracy: 0.8500\n",
            "Epoch 29/50\n",
            "28/28 [==============================] - 9s 324ms/step - loss: 0.0241 - accuracy: 0.9852 - val_loss: 0.2568 - val_accuracy: 0.8818\n",
            "Epoch 30/50\n",
            "28/28 [==============================] - 9s 325ms/step - loss: 0.0079 - accuracy: 0.9989 - val_loss: 0.1793 - val_accuracy: 0.9091\n",
            "Epoch 31/50\n",
            "28/28 [==============================] - 9s 327ms/step - loss: 0.0166 - accuracy: 0.9954 - val_loss: 0.8081 - val_accuracy: 0.7682\n",
            "Epoch 32/50\n",
            "28/28 [==============================] - 9s 326ms/step - loss: 0.0386 - accuracy: 0.9806 - val_loss: 0.2035 - val_accuracy: 0.9091\n",
            "Epoch 33/50\n",
            "28/28 [==============================] - 9s 325ms/step - loss: 0.0309 - accuracy: 0.9783 - val_loss: 3.3437 - val_accuracy: 0.3773\n",
            "Epoch 34/50\n",
            "28/28 [==============================] - 9s 325ms/step - loss: 0.0215 - accuracy: 0.9909 - val_loss: 2.7225 - val_accuracy: 0.4591\n",
            "Epoch 35/50\n",
            "28/28 [==============================] - 9s 325ms/step - loss: 0.0165 - accuracy: 0.9897 - val_loss: 2.3473 - val_accuracy: 0.4955\n",
            "Epoch 36/50\n",
            "28/28 [==============================] - 9s 324ms/step - loss: 0.0068 - accuracy: 0.9977 - val_loss: 0.0884 - val_accuracy: 0.9636\n",
            "Epoch 37/50\n",
            "28/28 [==============================] - 9s 324ms/step - loss: 0.0021 - accuracy: 1.0000 - val_loss: 0.0739 - val_accuracy: 0.9727\n",
            "Epoch 38/50\n",
            "28/28 [==============================] - 9s 325ms/step - loss: 5.6273e-04 - accuracy: 1.0000 - val_loss: 0.0647 - val_accuracy: 0.9727\n",
            "Epoch 39/50\n",
            "28/28 [==============================] - 9s 325ms/step - loss: 5.7576e-04 - accuracy: 1.0000 - val_loss: 0.0593 - val_accuracy: 0.9727\n",
            "Epoch 40/50\n",
            "28/28 [==============================] - 9s 324ms/step - loss: 0.0014 - accuracy: 1.0000 - val_loss: 0.0659 - val_accuracy: 0.9727\n",
            "Epoch 41/50\n",
            "28/28 [==============================] - 9s 324ms/step - loss: 0.0301 - accuracy: 0.9817 - val_loss: 3.0946 - val_accuracy: 0.4182\n",
            "Epoch 42/50\n",
            "28/28 [==============================] - 9s 324ms/step - loss: 0.0378 - accuracy: 0.9829 - val_loss: 46.3704 - val_accuracy: 0.3455\n",
            "Epoch 43/50\n",
            "28/28 [==============================] - 9s 325ms/step - loss: 0.0236 - accuracy: 0.9840 - val_loss: 4.9994 - val_accuracy: 0.4545\n",
            "Epoch 44/50\n",
            "28/28 [==============================] - 9s 324ms/step - loss: 0.0445 - accuracy: 0.9772 - val_loss: 8.9603 - val_accuracy: 0.3500\n",
            "Epoch 45/50\n",
            "28/28 [==============================] - 9s 324ms/step - loss: 0.0116 - accuracy: 0.9954 - val_loss: 1.7272 - val_accuracy: 0.7182\n",
            "Epoch 46/50\n",
            "28/28 [==============================] - 9s 324ms/step - loss: 0.0203 - accuracy: 0.9909 - val_loss: 0.2931 - val_accuracy: 0.8591\n",
            "Epoch 47/50\n",
            "28/28 [==============================] - 9s 323ms/step - loss: 0.0289 - accuracy: 0.9852 - val_loss: 0.6446 - val_accuracy: 0.7955\n",
            "Epoch 48/50\n",
            "28/28 [==============================] - 9s 324ms/step - loss: 0.0098 - accuracy: 0.9966 - val_loss: 0.4007 - val_accuracy: 0.8909\n",
            "Epoch 49/50\n",
            "28/28 [==============================] - 9s 324ms/step - loss: 0.0093 - accuracy: 0.9966 - val_loss: 0.1377 - val_accuracy: 0.9545\n",
            "Epoch 50/50\n",
            "28/28 [==============================] - 9s 325ms/step - loss: 0.0124 - accuracy: 0.9954 - val_loss: 2.1295 - val_accuracy: 0.5727\n"
          ]
        }
      ]
    },
    {
      "cell_type": "code",
      "source": [
        "# Evaluate the model on the testing set\n",
        "test_loss, test_accuracy = model.evaluate(X_test, y_test, batch_size=batch_size)\n",
        "print(\"Test Loss:\", test_loss)\n",
        "print(\"Test Accuracy:\", test_accuracy)"
      ],
      "metadata": {
        "colab": {
          "base_uri": "https://localhost:8080/"
        },
        "id": "zUZ7-803pnP5",
        "outputId": "f438e60c-54c4-4082-ed3e-9edaed01bff2"
      },
      "execution_count": 16,
      "outputs": [
        {
          "output_type": "stream",
          "name": "stdout",
          "text": [
            "9/9 [==============================] - 2s 186ms/step - loss: 2.0507 - accuracy: 0.5292\n",
            "Test Loss: 2.0507359504699707\n",
            "Test Accuracy: 0.529197096824646\n"
          ]
        }
      ]
    },
    {
      "cell_type": "code",
      "source": [
        "import matplotlib.image as mpimg\n",
        "import matplotlib.pyplot as plt"
      ],
      "metadata": {
        "id": "zZSm41aL2Wl2"
      },
      "execution_count": 17,
      "outputs": []
    },
    {
      "cell_type": "code",
      "source": [
        "# Retrieve a list of results on training and test data sets for each training epoch\n",
        "acc = history.history['accuracy']\n",
        "val_acc = history.history['val_accuracy']\n",
        "loss = history.history['loss']\n",
        "val_loss = history.history['val_loss']\n",
        "\n",
        "epochs = range(len(acc))  # Get the number of epochs\n",
        "\n",
        "# Plot training and validation accuracy per epoch\n",
        "plt.plot(epochs, acc, 'r', label = 'Training accuracy')\n",
        "plt.plot(epochs, val_acc, 'b', label = 'Validation accuracy')\n",
        "plt.title('Training and validation accuracy')\n",
        "plt.legend(loc = 0)\n",
        "plt.figure()\n",
        "\n",
        "# Plot training and validation lost per epoch\n",
        "plt.plot(epochs, acc, 'r', label = 'Training loss')\n",
        "plt.plot(epochs, val_acc, 'b', label = 'Validation loss')\n",
        "plt.title('Training and validation loss')\n",
        "plt.legend(loc = 0)\n",
        "plt.figure()"
      ],
      "metadata": {
        "colab": {
          "base_uri": "https://localhost:8080/",
          "height": 922
        },
        "id": "0ljZyOuO2YHo",
        "outputId": "8f96db8a-9a20-4800-8aaa-9627b15077be"
      },
      "execution_count": 18,
      "outputs": [
        {
          "output_type": "execute_result",
          "data": {
            "text/plain": [
              "<Figure size 640x480 with 0 Axes>"
            ]
          },
          "metadata": {},
          "execution_count": 18
        },
        {
          "output_type": "display_data",
          "data": {
            "text/plain": [
              "<Figure size 640x480 with 1 Axes>"
            ],
            "image/png": "[encoded data removed]"
          },
          "metadata": {}
        },
        {
          "output_type": "display_data",
          "data": {
            "text/plain": [
              "<Figure size 640x480 with 1 Axes>"
            ],
            "image/png": "[encoded data removed]"
          },
          "metadata": {}
        },
        {
          "output_type": "display_data",
          "data": {
            "text/plain": [
              "<Figure size 640x480 with 0 Axes>"
            ]
          },
          "metadata": {}
        }
      ]
    },
    {
      "cell_type": "code",
      "source": [
        "import seaborn as sns\n",
        "import matplotlib.pyplot as plt\n",
        "from sklearn.metrics import confusion_matrix\n",
        "\n",
        "# Perform prediction on the test set\n",
        "predictions = model.predict(X_test)\n",
        "predicted_labels = np.argmax(predictions, axis=1)\n",
        "\n",
        "# Convert test_labels to integer format\n",
        "test_labels_int = np.argmax(y_test, axis=1)\n",
        "\n",
        "# Create a confusion matrix\n",
        "cm = confusion_matrix(test_labels_int, predicted_labels)\n",
        "\n",
        "# Visualize the confusion matrix\n",
        "plt.figure(figsize=(8, 6))\n",
        "sns.heatmap(cm, annot=True, fmt='d', cmap='Blues', xticklabels=class_names, yticklabels=class_names)\n",
        "plt.xlabel('Predicted Labels')\n",
        "plt.ylabel('True Labels')\n",
        "plt.title('Confusion Matrix')\n",
        "plt.show()"
      ],
      "metadata": {
        "colab": {
          "base_uri": "https://localhost:8080/",
          "height": 581
        },
        "id": "lvTaP4KY2hTZ",
        "outputId": "c5c3b126-f5f3-4fc9-ae63-c3b5ebd80711"
      },
      "execution_count": 19,
      "outputs": [
        {
          "output_type": "stream",
          "name": "stdout",
          "text": [
            "9/9 [==============================] - 2s 93ms/step\n"
          ]
        },
        {
          "output_type": "display_data",
          "data": {
            "text/plain": [
              "<Figure size 800x600 with 2 Axes>"
            ],
            "image/png": "[encoded data removed]"
          },
          "metadata": {}
        }
      ]
    },
    {
      "cell_type": "code",
      "source": [
        "def calculate_accuracy(confusion_matrix):\n",
        "    # Extract the values from the confusion matrix\n",
        "    true_positives = np.diag(confusion_matrix)\n",
        "    total_predictions = np.sum(confusion_matrix)\n",
        "\n",
        "    # Calculate the accuracy\n",
        "    accuracy = np.sum(true_positives) / total_predictions\n",
        "\n",
        "    return accuracy\n",
        "\n",
        "# Calculate the accuracy using the confusion matrix\n",
        "accuracy = calculate_accuracy(cm)\n",
        "\n",
        "# Print the accuracy\n",
        "print(\"Accuracy:\", accuracy)"
      ],
      "metadata": {
        "colab": {
          "base_uri": "https://localhost:8080/"
        },
        "id": "fugzrF0_2oet",
        "outputId": "c34d8c01-6e5c-4e74-b3ee-b80be27455b9"
      },
      "execution_count": 20,
      "outputs": [
        {
          "output_type": "stream",
          "name": "stdout",
          "text": [
            "Accuracy: 0.5291970802919708\n"
          ]
        }
      ]
    }
  ]
}