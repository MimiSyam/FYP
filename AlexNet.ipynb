{
  "nbformat": 4,
  "nbformat_minor": 0,
  "metadata": {
    "colab": {
      "provenance": [],
      "machine_shape": "hm",
      "gpuType": "T4",
      "authorship_tag": "ABX9TyNRRyCWuN6+f9ORrp7q/0rE",
      "include_colab_link": true
    },
    "kernelspec": {
      "name": "python3",
      "display_name": "Python 3"
    },
    "language_info": {
      "name": "python"
    },
    "accelerator": "GPU"
  },
  "cells": [
    {
      "cell_type": "markdown",
      "metadata": {
        "id": "view-in-github",
        "colab_type": "text"
      },
      "source": [
        "<a href=\"https://colab.research.google.com/github/MimiSyam/FYP/blob/main/AlexNet.ipynb\" target=\"_parent\"><img src=\"https://colab.research.google.com/assets/colab-badge.svg\" alt=\"Open In Colab\"/></a>"
      ]
    },
    {
      "cell_type": "code",
      "execution_count": 1,
      "metadata": {
        "colab": {
          "base_uri": "https://localhost:8080/"
        },
        "id": "jmWeMRSQvCSz",
        "outputId": "7f18977f-3c56-439a-f793-bcd5f2af988f"
      },
      "outputs": [
        {
          "output_type": "stream",
          "name": "stdout",
          "text": [
            "Mounted at /content/drive\n"
          ]
        }
      ],
      "source": [
        "from google.colab import drive\n",
        "drive.mount('/content/drive')"
      ]
    },
    {
      "cell_type": "code",
      "source": [
        "import os\n",
        "\n",
        "directory = '/content/drive/MyDrive/VGG19/skinTone_type_all'\n",
        "class_names = os.listdir(directory)\n",
        "num_classes = len(class_names)"
      ],
      "metadata": {
        "id": "vdPOFs7cGEcf"
      },
      "execution_count": 2,
      "outputs": []
    },
    {
      "cell_type": "code",
      "source": [
        "import cv2\n",
        "import glob\n",
        "import numpy as np\n",
        "from tensorflow.keras.preprocessing.image import ImageDataGenerator"
      ],
      "metadata": {
        "id": "5Eb0bJ5AlSeq"
      },
      "execution_count": 3,
      "outputs": []
    },
    {
      "cell_type": "code",
      "source": [
        "# Set the image size for VGG19\n",
        "imSize = 224"
      ],
      "metadata": {
        "id": "wBqFo_NWlfzH"
      },
      "execution_count": 4,
      "outputs": []
    },
    {
      "cell_type": "code",
      "source": [
        "# Lists to store images and labels\n",
        "train_images = []\n",
        "train_labels = []"
      ],
      "metadata": {
        "id": "-54Tu_2ClgZG"
      },
      "execution_count": 5,
      "outputs": []
    },
    {
      "cell_type": "code",
      "source": [
        "# Initialize an ImageDataGenerator for data augmentation\n",
        "datagen = ImageDataGenerator(\n",
        "    rotation_range=20,\n",
        "    width_shift_range=0.2,\n",
        "    height_shift_range=0.2,\n",
        "    shear_range=0.2,\n",
        "    zoom_range=0.2,\n",
        "    horizontal_flip=True,\n",
        "    fill_mode='nearest')"
      ],
      "metadata": {
        "id": "6m_nnFHsliF2"
      },
      "execution_count": null,
      "outputs": []
    },
    {
      "cell_type": "code",
      "source": [
        "for class_index, class_name in enumerate(class_names):\n",
        "    class_dir = os.path.join(directory, class_name)\n",
        "    for image_name in os.listdir(class_dir):\n",
        "        image_path = os.path.join(class_dir, image_name)\n",
        "        fundIm = cv2.imread(image_path)\n",
        "        resizeIm = cv2.resize(fundIm, (imSize, imSize))  # Resize image to desired size\n",
        "\n",
        "        #Apply data augmentation\n",
        "        #img_batch = np.expand_dims(resizeIm, axis=0)  # Add batch dimension\n",
        "        #aug_iter = datagen.flow(img_batch, batch_size=1)\n",
        "        #augmented_images = [next(aug_iter)[0] for _ in range(10)]  # Generate 10 augmented images\n",
        "\n",
        "\n",
        "        #train_images.extend(augmented_images)\n",
        "        #train_labels.extend([class_index] * len(augmented_images))\n",
        "\n",
        "        train_images.append(resizeIm)\n",
        "        train_labels.append(class_index)"
      ],
      "metadata": {
        "id": "0SAhUooVlkPq"
      },
      "execution_count": 6,
      "outputs": []
    },
    {
      "cell_type": "code",
      "source": [
        "# Convert lists to numpy arrays\n",
        "train_images = np.array(train_images)\n",
        "train_labels = np.array(train_labels)"
      ],
      "metadata": {
        "id": "spv_XDcrlmnv"
      },
      "execution_count": 7,
      "outputs": []
    },
    {
      "cell_type": "code",
      "source": [
        "# Normalize RGB values to [0, 1]\n",
        "train_images = train_images.astype('float32') / 255.0"
      ],
      "metadata": {
        "id": "BLgQB7LElpOF"
      },
      "execution_count": 8,
      "outputs": []
    },
    {
      "cell_type": "code",
      "source": [
        "import tensorflow as tf\n",
        "from tensorflow.keras.layers import Input, Conv2D, MaxPooling2D, Flatten, Dense, Dropout\n",
        "\n",
        "# Input layer\n",
        "input_shape = (224, 224, 3)  # Typical input size for AlexNet\n",
        "input_layer = Input(shape=input_shape)\n",
        "\n",
        "# Layer 1\n",
        "x = Conv2D(96, (11, 11), strides=(4, 4), activation='relu', padding='valid')(input_layer)\n",
        "x = MaxPooling2D((3, 3), strides=(2, 2))(x)\n",
        "\n",
        "# Layer 2\n",
        "x = Conv2D(256, (5, 5), activation='relu', padding='same')(x)\n",
        "x = MaxPooling2D((3, 3), strides=(2, 2))(x)\n",
        "\n",
        "# Layer 3\n",
        "x = Conv2D(384, (3, 3), activation='relu', padding='same')(x)\n",
        "\n",
        "# Layer 4\n",
        "x = Conv2D(384, (3, 3), activation='relu', padding='same')(x)\n",
        "\n",
        "# Layer 5\n",
        "x = Conv2D(256, (3, 3), activation='relu', padding='same')(x)\n",
        "x = MaxPooling2D((3, 3), strides=(2, 2))(x)\n",
        "\n",
        "# Flatten\n",
        "x = Flatten()(x)\n",
        "\n",
        "# Fully connected layers\n",
        "x = Dense(4096, activation='relu')(x)\n",
        "x = Dropout(0.5)(x)  # Adding dropout for regularization\n",
        "x = Dense(4096, activation='relu')(x)\n",
        "x = Dropout(0.5)(x)\n",
        "\n",
        "# Output layer\n",
        "output = Dense(4, activation='softmax')(x)  # 1000 classes for ImageNet\n",
        "\n",
        "# Create the AlexNet model\n",
        "alexnet_model = tf.keras.Model(inputs=input_layer, outputs=output)\n",
        "\n",
        "# Display model summary\n",
        "alexnet_model.summary()"
      ],
      "metadata": {
        "colab": {
          "base_uri": "https://localhost:8080/"
        },
        "id": "cT1DhOpbBRiE",
        "outputId": "53edd8de-1e55-4526-fe54-6d58c661e77e"
      },
      "execution_count": 16,
      "outputs": [
        {
          "output_type": "stream",
          "name": "stdout",
          "text": [
            "Model: \"model_1\"\n",
            "_________________________________________________________________\n",
            " Layer (type)                Output Shape              Param #   \n",
            "=================================================================\n",
            " input_2 (InputLayer)        [(None, 224, 224, 3)]     0         \n",
            "                                                                 \n",
            " conv2d_5 (Conv2D)           (None, 54, 54, 96)        34944     \n",
            "                                                                 \n",
            " max_pooling2d_3 (MaxPoolin  (None, 26, 26, 96)        0         \n",
            " g2D)                                                            \n",
            "                                                                 \n",
            " conv2d_6 (Conv2D)           (None, 26, 26, 256)       614656    \n",
            "                                                                 \n",
            " max_pooling2d_4 (MaxPoolin  (None, 12, 12, 256)       0         \n",
            " g2D)                                                            \n",
            "                                                                 \n",
            " conv2d_7 (Conv2D)           (None, 12, 12, 384)       885120    \n",
            "                                                                 \n",
            " conv2d_8 (Conv2D)           (None, 12, 12, 384)       1327488   \n",
            "                                                                 \n",
            " conv2d_9 (Conv2D)           (None, 12, 12, 256)       884992    \n",
            "                                                                 \n",
            " max_pooling2d_5 (MaxPoolin  (None, 5, 5, 256)         0         \n",
            " g2D)                                                            \n",
            "                                                                 \n",
            " flatten_1 (Flatten)         (None, 6400)              0         \n",
            "                                                                 \n",
            " dense_3 (Dense)             (None, 4096)              26218496  \n",
            "                                                                 \n",
            " dropout_2 (Dropout)         (None, 4096)              0         \n",
            "                                                                 \n",
            " dense_4 (Dense)             (None, 4096)              16781312  \n",
            "                                                                 \n",
            " dropout_3 (Dropout)         (None, 4096)              0         \n",
            "                                                                 \n",
            " dense_5 (Dense)             (None, 4)                 16388     \n",
            "                                                                 \n",
            "=================================================================\n",
            "Total params: 46763396 (178.39 MB)\n",
            "Trainable params: 46763396 (178.39 MB)\n",
            "Non-trainable params: 0 (0.00 Byte)\n",
            "_________________________________________________________________\n"
          ]
        }
      ]
    },
    {
      "cell_type": "code",
      "source": [
        "from keras.optimizers import Adam\n",
        "alexnet_model.compile(optimizer='adam', loss='binary_crossentropy', metrics=['accuracy'])"
      ],
      "metadata": {
        "id": "f9W5NpTADt1X"
      },
      "execution_count": 17,
      "outputs": []
    },
    {
      "cell_type": "code",
      "source": [
        "from keras.utils import to_categorical\n",
        "from sklearn.model_selection import train_test_split"
      ],
      "metadata": {
        "id": "3jshKOoNmCXG"
      },
      "execution_count": 18,
      "outputs": []
    },
    {
      "cell_type": "code",
      "source": [
        "# Convert labels to one-hot encoded format\n",
        "label_to_id = {class_names: idx for idx, class_names in enumerate(np.unique(train_labels))}\n",
        "train_labels_encoded = np.array([label_to_id[class_names] for class_names in train_labels])\n",
        "train_labels_onehot = to_categorical(train_labels_encoded)"
      ],
      "metadata": {
        "id": "mRZrLrQumF57"
      },
      "execution_count": 19,
      "outputs": []
    },
    {
      "cell_type": "code",
      "source": [
        "# Split the data into training and testing sets\n",
        "X_train, X_test, y_train, y_test = train_test_split(train_images, train_labels_onehot, test_size=0.2, random_state=42)"
      ],
      "metadata": {
        "id": "jscAZGrnmIAn"
      },
      "execution_count": 20,
      "outputs": []
    },
    {
      "cell_type": "code",
      "source": [
        "# Train the model\n",
        "batch_size = 32\n",
        "epochs = 50"
      ],
      "metadata": {
        "id": "Qk_Ld7i3mKdt"
      },
      "execution_count": 21,
      "outputs": []
    },
    {
      "cell_type": "code",
      "source": [],
      "metadata": {
        "colab": {
          "base_uri": "https://localhost:8080/",
          "height": 245
        },
        "id": "y452wfdmIelU",
        "outputId": "bfd02942-b097-468e-f77e-02d58bed0fdf"
      },
      "execution_count": null,
      "outputs": [
        {
          "output_type": "error",
          "ename": "ValueError",
          "evalue": "ignored",
          "traceback": [
            "\u001b[0;31m---------------------------------------------------------------------------\u001b[0m",
            "\u001b[0;31mValueError\u001b[0m                                Traceback (most recent call last)",
            "\u001b[0;32m<ipython-input-16-cd38ba18945f>\u001b[0m in \u001b[0;36m<cell line: 9>\u001b[0;34m()\u001b[0m\n\u001b[1;32m      9\u001b[0m \u001b[0;32mfor\u001b[0m \u001b[0mepoch\u001b[0m \u001b[0;32min\u001b[0m \u001b[0mrange\u001b[0m\u001b[0;34m(\u001b[0m\u001b[0mepochs\u001b[0m\u001b[0;34m)\u001b[0m\u001b[0;34m:\u001b[0m\u001b[0;34m\u001b[0m\u001b[0;34m\u001b[0m\u001b[0m\n\u001b[1;32m     10\u001b[0m     \u001b[0;31m# Assuming you have training data in DataLoader called 'train_loader'\u001b[0m\u001b[0;34m\u001b[0m\u001b[0;34m\u001b[0m\u001b[0m\n\u001b[0;32m---> 11\u001b[0;31m     \u001b[0;32mfor\u001b[0m \u001b[0mX_train\u001b[0m\u001b[0;34m,\u001b[0m \u001b[0mlabels\u001b[0m \u001b[0;32min\u001b[0m \u001b[0my_train\u001b[0m\u001b[0;34m:\u001b[0m\u001b[0;34m\u001b[0m\u001b[0;34m\u001b[0m\u001b[0m\n\u001b[0m\u001b[1;32m     12\u001b[0m         \u001b[0;31m# Zero the gradients\u001b[0m\u001b[0;34m\u001b[0m\u001b[0;34m\u001b[0m\u001b[0m\n\u001b[1;32m     13\u001b[0m         \u001b[0moptimizer\u001b[0m\u001b[0;34m.\u001b[0m\u001b[0mzero_grad\u001b[0m\u001b[0;34m(\u001b[0m\u001b[0;34m)\u001b[0m\u001b[0;34m\u001b[0m\u001b[0;34m\u001b[0m\u001b[0m\n",
            "\u001b[0;31mValueError\u001b[0m: too many values to unpack (expected 2)"
          ]
        }
      ]
    },
    {
      "cell_type": "code",
      "source": [
        "history = alexnet_model.fit(X_train, y_train, batch_size=batch_size, epochs=epochs, validation_split=0.2)"
      ],
      "metadata": {
        "colab": {
          "base_uri": "https://localhost:8080/"
        },
        "id": "t0U-dKVSmNfd",
        "outputId": "d0bc7f1e-2122-4086-c5c4-53c3f31ccab2"
      },
      "execution_count": 22,
      "outputs": [
        {
          "output_type": "stream",
          "name": "stdout",
          "text": [
            "Epoch 1/50\n",
            "28/28 [==============================] - 16s 90ms/step - loss: 0.8172 - accuracy: 0.3082 - val_loss: 0.5572 - val_accuracy: 0.3318\n",
            "Epoch 2/50\n",
            "28/28 [==============================] - 1s 41ms/step - loss: 0.5604 - accuracy: 0.3208 - val_loss: 0.5632 - val_accuracy: 0.2318\n",
            "Epoch 3/50\n",
            "28/28 [==============================] - 1s 41ms/step - loss: 0.5583 - accuracy: 0.3014 - val_loss: 0.5290 - val_accuracy: 0.4455\n",
            "Epoch 4/50\n",
            "28/28 [==============================] - 1s 41ms/step - loss: 0.5120 - accuracy: 0.4543 - val_loss: 0.4498 - val_accuracy: 0.5182\n",
            "Epoch 5/50\n",
            "28/28 [==============================] - 1s 41ms/step - loss: 0.4133 - accuracy: 0.5936 - val_loss: 0.4632 - val_accuracy: 0.6318\n",
            "Epoch 6/50\n",
            "28/28 [==============================] - 1s 41ms/step - loss: 0.3503 - accuracy: 0.6644 - val_loss: 0.2732 - val_accuracy: 0.7455\n",
            "Epoch 7/50\n",
            "28/28 [==============================] - 1s 41ms/step - loss: 0.2901 - accuracy: 0.7397 - val_loss: 0.2213 - val_accuracy: 0.8182\n",
            "Epoch 8/50\n",
            "28/28 [==============================] - 1s 40ms/step - loss: 0.1831 - accuracy: 0.8505 - val_loss: 0.1750 - val_accuracy: 0.8864\n",
            "Epoch 9/50\n",
            "28/28 [==============================] - 1s 41ms/step - loss: 0.1160 - accuracy: 0.9087 - val_loss: 0.1154 - val_accuracy: 0.9182\n",
            "Epoch 10/50\n",
            "28/28 [==============================] - 1s 41ms/step - loss: 0.1255 - accuracy: 0.9018 - val_loss: 0.0861 - val_accuracy: 0.9500\n",
            "Epoch 11/50\n",
            "28/28 [==============================] - 1s 41ms/step - loss: 0.1105 - accuracy: 0.9292 - val_loss: 0.0682 - val_accuracy: 0.9591\n",
            "Epoch 12/50\n",
            "28/28 [==============================] - 1s 40ms/step - loss: 0.0636 - accuracy: 0.9532 - val_loss: 0.0927 - val_accuracy: 0.9318\n",
            "Epoch 13/50\n",
            "28/28 [==============================] - 1s 40ms/step - loss: 0.0341 - accuracy: 0.9829 - val_loss: 0.1433 - val_accuracy: 0.9091\n",
            "Epoch 14/50\n",
            "28/28 [==============================] - 1s 41ms/step - loss: 0.0877 - accuracy: 0.9532 - val_loss: 0.1633 - val_accuracy: 0.9045\n",
            "Epoch 15/50\n",
            "28/28 [==============================] - 1s 41ms/step - loss: 0.0746 - accuracy: 0.9589 - val_loss: 0.1160 - val_accuracy: 0.9182\n",
            "Epoch 16/50\n",
            "28/28 [==============================] - 1s 41ms/step - loss: 0.0456 - accuracy: 0.9737 - val_loss: 0.0649 - val_accuracy: 0.9636\n",
            "Epoch 17/50\n",
            "28/28 [==============================] - 1s 41ms/step - loss: 0.0346 - accuracy: 0.9806 - val_loss: 0.0668 - val_accuracy: 0.9636\n",
            "Epoch 18/50\n",
            "28/28 [==============================] - 1s 41ms/step - loss: 0.0462 - accuracy: 0.9726 - val_loss: 0.0730 - val_accuracy: 0.9545\n",
            "Epoch 19/50\n",
            "28/28 [==============================] - 1s 41ms/step - loss: 0.0393 - accuracy: 0.9703 - val_loss: 0.0909 - val_accuracy: 0.9364\n",
            "Epoch 20/50\n",
            "28/28 [==============================] - 1s 41ms/step - loss: 0.0251 - accuracy: 0.9829 - val_loss: 0.0509 - val_accuracy: 0.9545\n",
            "Epoch 21/50\n",
            "28/28 [==============================] - 1s 41ms/step - loss: 0.0245 - accuracy: 0.9874 - val_loss: 0.1236 - val_accuracy: 0.9545\n",
            "Epoch 22/50\n",
            "28/28 [==============================] - 1s 41ms/step - loss: 0.0233 - accuracy: 0.9886 - val_loss: 0.0818 - val_accuracy: 0.9591\n",
            "Epoch 23/50\n",
            "28/28 [==============================] - 1s 41ms/step - loss: 0.0256 - accuracy: 0.9840 - val_loss: 0.0720 - val_accuracy: 0.9727\n",
            "Epoch 24/50\n",
            "28/28 [==============================] - 1s 41ms/step - loss: 0.0186 - accuracy: 0.9909 - val_loss: 0.1126 - val_accuracy: 0.9636\n",
            "Epoch 25/50\n",
            "28/28 [==============================] - 1s 41ms/step - loss: 0.0200 - accuracy: 0.9932 - val_loss: 0.0979 - val_accuracy: 0.9500\n",
            "Epoch 26/50\n",
            "28/28 [==============================] - 1s 41ms/step - loss: 0.0486 - accuracy: 0.9840 - val_loss: 0.0603 - val_accuracy: 0.9591\n",
            "Epoch 27/50\n",
            "28/28 [==============================] - 1s 41ms/step - loss: 0.0175 - accuracy: 0.9909 - val_loss: 0.1039 - val_accuracy: 0.9545\n",
            "Epoch 28/50\n",
            "28/28 [==============================] - 1s 41ms/step - loss: 0.0106 - accuracy: 0.9897 - val_loss: 0.0780 - val_accuracy: 0.9636\n",
            "Epoch 29/50\n",
            "28/28 [==============================] - 1s 41ms/step - loss: 0.0138 - accuracy: 0.9954 - val_loss: 0.0469 - val_accuracy: 0.9545\n",
            "Epoch 30/50\n",
            "28/28 [==============================] - 1s 41ms/step - loss: 0.0168 - accuracy: 0.9897 - val_loss: 0.1814 - val_accuracy: 0.9136\n",
            "Epoch 31/50\n",
            "28/28 [==============================] - 1s 41ms/step - loss: 0.0195 - accuracy: 0.9897 - val_loss: 0.0539 - val_accuracy: 0.9727\n",
            "Epoch 32/50\n",
            "28/28 [==============================] - 1s 41ms/step - loss: 0.0207 - accuracy: 0.9874 - val_loss: 0.0839 - val_accuracy: 0.9636\n",
            "Epoch 33/50\n",
            "28/28 [==============================] - 1s 41ms/step - loss: 0.0139 - accuracy: 0.9920 - val_loss: 0.0686 - val_accuracy: 0.9545\n",
            "Epoch 34/50\n",
            "28/28 [==============================] - 1s 41ms/step - loss: 0.0206 - accuracy: 0.9909 - val_loss: 0.1099 - val_accuracy: 0.9591\n",
            "Epoch 35/50\n",
            "28/28 [==============================] - 1s 41ms/step - loss: 0.0196 - accuracy: 0.9874 - val_loss: 0.0682 - val_accuracy: 0.9636\n",
            "Epoch 36/50\n",
            "28/28 [==============================] - 1s 41ms/step - loss: 0.0047 - accuracy: 0.9954 - val_loss: 0.0776 - val_accuracy: 0.9682\n",
            "Epoch 37/50\n",
            "28/28 [==============================] - 1s 41ms/step - loss: 0.0058 - accuracy: 0.9943 - val_loss: 0.1252 - val_accuracy: 0.9636\n",
            "Epoch 38/50\n",
            "28/28 [==============================] - 1s 41ms/step - loss: 0.0201 - accuracy: 0.9886 - val_loss: 0.1200 - val_accuracy: 0.9591\n",
            "Epoch 39/50\n",
            "28/28 [==============================] - 1s 41ms/step - loss: 0.0275 - accuracy: 0.9852 - val_loss: 0.2091 - val_accuracy: 0.9091\n",
            "Epoch 40/50\n",
            "28/28 [==============================] - 1s 41ms/step - loss: 0.0790 - accuracy: 0.9783 - val_loss: 0.2681 - val_accuracy: 0.8955\n",
            "Epoch 41/50\n",
            "28/28 [==============================] - 1s 41ms/step - loss: 0.0866 - accuracy: 0.9498 - val_loss: 0.1422 - val_accuracy: 0.9273\n",
            "Epoch 42/50\n",
            "28/28 [==============================] - 1s 41ms/step - loss: 0.0388 - accuracy: 0.9715 - val_loss: 0.0624 - val_accuracy: 0.9636\n",
            "Epoch 43/50\n",
            "28/28 [==============================] - 1s 41ms/step - loss: 0.0182 - accuracy: 0.9920 - val_loss: 0.1665 - val_accuracy: 0.9409\n",
            "Epoch 44/50\n",
            "28/28 [==============================] - 1s 42ms/step - loss: 0.0230 - accuracy: 0.9852 - val_loss: 0.0327 - val_accuracy: 0.9864\n",
            "Epoch 45/50\n",
            "28/28 [==============================] - 1s 41ms/step - loss: 0.0046 - accuracy: 0.9977 - val_loss: 0.1185 - val_accuracy: 0.9727\n",
            "Epoch 46/50\n",
            "28/28 [==============================] - 1s 42ms/step - loss: 0.0029 - accuracy: 0.9977 - val_loss: 0.0281 - val_accuracy: 0.9864\n",
            "Epoch 47/50\n",
            "28/28 [==============================] - 1s 41ms/step - loss: 0.0018 - accuracy: 0.9989 - val_loss: 0.0419 - val_accuracy: 0.9818\n",
            "Epoch 48/50\n",
            "28/28 [==============================] - 1s 41ms/step - loss: 2.1619e-04 - accuracy: 1.0000 - val_loss: 0.0562 - val_accuracy: 0.9773\n",
            "Epoch 49/50\n",
            "28/28 [==============================] - 1s 42ms/step - loss: 7.9889e-05 - accuracy: 1.0000 - val_loss: 0.0537 - val_accuracy: 0.9818\n",
            "Epoch 50/50\n",
            "28/28 [==============================] - 1s 42ms/step - loss: 3.2254e-05 - accuracy: 1.0000 - val_loss: 0.0531 - val_accuracy: 0.9818\n"
          ]
        }
      ]
    },
    {
      "cell_type": "code",
      "source": [
        "# Evaluate the model on the testing set\n",
        "test_loss, test_accuracy = alexnet_model.evaluate(X_test, y_test, batch_size=batch_size)\n",
        "print(\"Test Loss:\", test_loss)\n",
        "print(\"Test Accuracy:\", test_accuracy)"
      ],
      "metadata": {
        "colab": {
          "base_uri": "https://localhost:8080/"
        },
        "id": "ewntHxZQ-Egd",
        "outputId": "a31f2fa1-8ae2-4515-e1a6-e185641fdb56"
      },
      "execution_count": 23,
      "outputs": [
        {
          "output_type": "stream",
          "name": "stdout",
          "text": [
            "9/9 [==============================] - 1s 65ms/step - loss: 0.1763 - accuracy: 0.9526\n",
            "Test Loss: 0.17629463970661163\n",
            "Test Accuracy: 0.9525547623634338\n"
          ]
        }
      ]
    },
    {
      "cell_type": "code",
      "source": [
        "import matplotlib.image as mpimg\n",
        "import matplotlib.pyplot as plt"
      ],
      "metadata": {
        "id": "j4z7DjE2-PWm"
      },
      "execution_count": 24,
      "outputs": []
    },
    {
      "cell_type": "code",
      "source": [
        "# Retrieve a list of results on training and test data sets for each training epoch\n",
        "acc = history.history['accuracy']\n",
        "val_acc = history.history['val_accuracy']\n",
        "loss = history.history['loss']\n",
        "val_loss = history.history['val_loss']\n",
        "\n",
        "epochs = range(len(acc))  # Get the number of epochs\n",
        "\n",
        "# Plot training and validation accuracy per epoch\n",
        "plt.plot(epochs, acc, 'r', label = 'Training accuracy')\n",
        "plt.plot(epochs, val_acc, 'b', label = 'Validation accuracy')\n",
        "plt.title('Training and validation accuracy')\n",
        "plt.legend(loc = 0)\n",
        "plt.figure()\n",
        "\n",
        "# Plot training and validation lost per epoch\n",
        "plt.plot(epochs, acc, 'r', label = 'Training loss')\n",
        "plt.plot(epochs, val_acc, 'b', label = 'Validation loss')\n",
        "plt.title('Training and validation loss')\n",
        "plt.legend(loc = 0)\n",
        "plt.figure()"
      ],
      "metadata": {
        "colab": {
          "base_uri": "https://localhost:8080/",
          "height": 922
        },
        "id": "8wMgEV7x-dOh",
        "outputId": "6d7c9fd4-4f7f-4526-81cf-7489afe0f775"
      },
      "execution_count": 25,
      "outputs": [
        {
          "output_type": "execute_result",
          "data": {
            "text/plain": [
              "<Figure size 640x480 with 0 Axes>"
            ]
          },
          "metadata": {},
          "execution_count": 25
        },
        {
          "output_type": "display_data",
          "data": {
            "text/plain": [
              "<Figure size 640x480 with 1 Axes>"
            ],
            "image/png": "[encoded data removed]"
          },
          "metadata": {}
        },
        {
          "output_type": "display_data",
          "data": {
            "text/plain": [
              "<Figure size 640x480 with 1 Axes>"
            ],
            "image/png": "[encoded data removed]"
          },
          "metadata": {}
        },
        {
          "output_type": "display_data",
          "data": {
            "text/plain": [
              "<Figure size 640x480 with 0 Axes>"
            ]
          },
          "metadata": {}
        }
      ]
    },
    {
      "cell_type": "code",
      "source": [
        "import seaborn as sns\n",
        "import matplotlib.pyplot as plt\n",
        "from sklearn.metrics import confusion_matrix\n",
        "\n",
        "# Perform prediction on the test set\n",
        "predictions = alexnet_model.predict(X_test)\n",
        "predicted_labels = np.argmax(predictions, axis=1)\n",
        "\n",
        "# Convert test_labels to integer format\n",
        "test_labels_int = np.argmax(y_test, axis=1)\n",
        "\n",
        "# Create a confusion matrix\n",
        "cm = confusion_matrix(test_labels_int, predicted_labels)\n",
        "\n",
        "# Visualize the confusion matrix\n",
        "plt.figure(figsize=(8, 6))\n",
        "sns.heatmap(cm, annot=True, fmt='d', cmap='Blues', xticklabels=class_names, yticklabels=class_names)\n",
        "plt.xlabel('Predicted Labels')\n",
        "plt.ylabel('True Labels')\n",
        "plt.title('Confusion Matrix')\n",
        "plt.show()"
      ],
      "metadata": {
        "colab": {
          "base_uri": "https://localhost:8080/",
          "height": 581
        },
        "id": "Mr_Jrawa-miS",
        "outputId": "85330ea4-eb53-48b6-d195-87aa1858b267"
      },
      "execution_count": 27,
      "outputs": [
        {
          "output_type": "stream",
          "name": "stdout",
          "text": [
            "9/9 [==============================] - 0s 20ms/step\n"
          ]
        },
        {
          "output_type": "display_data",
          "data": {
            "text/plain": [
              "<Figure size 800x600 with 2 Axes>"
            ],
            "image/png": "[encoded data removed]"
          },
          "metadata": {}
        }
      ]
    },
    {
      "cell_type": "code",
      "source": [
        "def calculate_accuracy(confusion_matrix):\n",
        "    # Extract the values from the confusion matrix\n",
        "    true_positives = np.diag(confusion_matrix)\n",
        "    total_predictions = np.sum(confusion_matrix)\n",
        "\n",
        "    # Calculate the accuracy\n",
        "    accuracy = np.sum(true_positives) / total_predictions\n",
        "\n",
        "    return accuracy\n",
        "\n",
        "# Calculate the accuracy using the confusion matrix\n",
        "accuracy = calculate_accuracy(cm)\n",
        "\n",
        "# Print the accuracy\n",
        "print(\"Accuracy:\", accuracy)"
      ],
      "metadata": {
        "colab": {
          "base_uri": "https://localhost:8080/"
        },
        "id": "IY-WtsPr-wIT",
        "outputId": "5c42de3a-737e-47a8-953b-f919e3763ba1"
      },
      "execution_count": 28,
      "outputs": [
        {
          "output_type": "stream",
          "name": "stdout",
          "text": [
            "Accuracy: 0.9525547445255474\n"
          ]
        }
      ]
    }
  ]
}